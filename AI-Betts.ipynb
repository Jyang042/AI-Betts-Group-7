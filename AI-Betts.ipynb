{
 "cells": [
  {
   "cell_type": "code",
   "execution_count": null,
   "metadata": {},
   "outputs": [],
   "source": []
  },
  {
   "cell_type": "code",
   "execution_count": 17,
   "metadata": {},
   "outputs": [],
   "source": [
    "#basic import statements\n",
    "import numpy as np\n",
    "import pandas as pd\n",
    "import matplotlib.pyplot as plt\n",
    "import random\n",
    "import os\n",
    "import shutil\n",
    "import seaborn\n",
    "# sklearn imports\n",
    "from sklearn.model_selection import train_test_split\n",
    "from sklearn.metrics import classification_report, confusion_matrix\n",
    "# tensorflow imports\n",
    "import tensorflow as tf\n",
    "from tensorflow.keras.models import Sequential\n",
    "from tensorflow.keras.layers import Dense, Dropout, Flatten\n",
    "from tensorflow.keras.optimizers import Adamax\n",
    "from tensorflow.keras.metrics import Precision, Recall\n",
    "from tensorflow.keras.preprocessing.image import ImageDataGenerator\n"
   ]
  },
  {
   "cell_type": "code",
   "execution_count": null,
   "metadata": {},
   "outputs": [],
   "source": [
    "# Create the directory if it doesn't exist\n",
    "os.makedirs(os.path.expanduser(\"~/.kaggle\"), exist_ok=True)\n",
    "\n",
    "# Move the file from your current folder to ~/.kaggle\n",
    "shutil.move(\"kaggle.json\", os.path.expanduser(\"~/.kaggle/kaggle.json\"))\n",
    "\n",
    "# Secure it (Kaggle requires this)\n",
    "os.chmod(os.path.expanduser(\"~/.kaggle/kaggle.json\"), 0o600)"
   ]
  },
  {
   "cell_type": "code",
   "execution_count": 4,
   "metadata": {},
   "outputs": [
    {
     "name": "stderr",
     "output_type": "stream",
     "text": [
      "c:\\School\\Artifical Intelligence\\AI-Betts-Group-7\\.venv\\Lib\\site-packages\\tqdm\\auto.py:21: TqdmWarning: IProgress not found. Please update jupyter and ipywidgets. See https://ipywidgets.readthedocs.io/en/stable/user_install.html\n",
      "  from .autonotebook import tqdm as notebook_tqdm\n"
     ]
    },
    {
     "name": "stdout",
     "output_type": "stream",
     "text": [
      "Path to dataset files: C:\\Users\\jyang\\.cache\\kagglehub\\datasets\\masoudnickparvar\\brain-tumor-mri-dataset\\versions\\1\n"
     ]
    }
   ],
   "source": [
    "#import dataset\n",
    "import kagglehub\n",
    "\n",
    "#Downlaod latest version\n",
    "path = kagglehub.dataset_download(\"masoudnickparvar/brain-tumor-mri-dataset\")\n",
    "\n",
    "print(\"Path to dataset files:\", path)"
   ]
  },
  {
   "cell_type": "code",
   "execution_count": 5,
   "metadata": {},
   "outputs": [],
   "source": [
    "#read in files\n",
    "train_dr = path + \"\\Training\"\n",
    "test_dr = path + \"\\Testing\""
   ]
  },
  {
   "cell_type": "code",
   "execution_count": 6,
   "metadata": {},
   "outputs": [
    {
     "name": "stdout",
     "output_type": "stream",
     "text": [
      "C:\\Users\\jyang\\.cache\\kagglehub\\datasets\\masoudnickparvar\\brain-tumor-mri-dataset\\versions\\1\\Training\n",
      "Training Info:\n",
      "Number of Paths: 5712\n",
      "Number of Labels: 5712\n",
      "C:\\Users\\jyang\\.cache\\kagglehub\\datasets\\masoudnickparvar\\brain-tumor-mri-dataset\\versions\\1\\Testing\n",
      "Testing Info:\n",
      "Number of Paths: 1311\n",
      "Number of Labels: 1311\n"
     ]
    }
   ],
   "source": [
    "def get_data_labels(directory):\n",
    "    paths = []\n",
    "    labels = []\n",
    "    for label_name in os.listdir(directory):\n",
    "        class_dir = os.path.join(directory, label_name)\n",
    "        if os.path.isdir(class_dir):\n",
    "            for filename in os.listdir(class_dir):\n",
    "                file_path = os.path.join(class_dir, filename)\n",
    "                paths.append(file_path)\n",
    "                labels.append(label_name)\n",
    "    return paths, labels\n",
    "\n",
    "#get data from files\n",
    "train_paths, train_labels = get_data_labels(train_dr)\n",
    "test_paths, test_labels = get_data_labels(test_dr)\n",
    "\n",
    "#print information\n",
    "print(train_dr)\n",
    "print('Training Info:')\n",
    "print(f'Number of Paths: {len(train_paths)}')\n",
    "print(f'Number of Labels: {len(train_labels)}')\n",
    "print(test_dr)\n",
    "print('Testing Info:')\n",
    "print(f'Number of Paths: {len(test_paths)}')\n",
    "print(f'Number of Labels: {len(test_labels)}')"
   ]
  },
  {
   "cell_type": "code",
   "execution_count": 7,
   "metadata": {},
   "outputs": [],
   "source": [
    "#load train data\n",
    "def train_df():\n",
    "    classes, class_paths = zip(*[(label, os.path.join(train_dr, label, image))\n",
    "                                 for label in os.listdir(train_dr) if os.path.isdir(os.path.join(train_dr, label))\n",
    "                                 for image in os.listdir(os.path.join(train_dr, label))])\n",
    "\n",
    "    tr_df = pd.DataFrame({'Class Path': class_paths, 'Class': classes})\n",
    "    return tr_df"
   ]
  },
  {
   "cell_type": "code",
   "execution_count": 8,
   "metadata": {},
   "outputs": [],
   "source": [
    "#load test data\n",
    "def test_df():\n",
    "    classes, class_paths = zip(*[(label, os.path.join(test_dr, label, image))\n",
    "                                 for label in os.listdir(test_dr) if os.path.isdir(os.path.join(test_dr, label))\n",
    "                                 for image in os.listdir(os.path.join(test_dr, label))])\n",
    "\n",
    "    ts_df = pd.DataFrame({'Class Path': class_paths, 'Class': classes})\n",
    "    return ts_df"
   ]
  },
  {
   "cell_type": "code",
   "execution_count": 9,
   "metadata": {},
   "outputs": [
    {
     "data": {
      "text/html": [
       "<div>\n",
       "<style scoped>\n",
       "    .dataframe tbody tr th:only-of-type {\n",
       "        vertical-align: middle;\n",
       "    }\n",
       "\n",
       "    .dataframe tbody tr th {\n",
       "        vertical-align: top;\n",
       "    }\n",
       "\n",
       "    .dataframe thead th {\n",
       "        text-align: right;\n",
       "    }\n",
       "</style>\n",
       "<table border=\"1\" class=\"dataframe\">\n",
       "  <thead>\n",
       "    <tr style=\"text-align: right;\">\n",
       "      <th></th>\n",
       "      <th>Class Path</th>\n",
       "      <th>Class</th>\n",
       "    </tr>\n",
       "  </thead>\n",
       "  <tbody>\n",
       "    <tr>\n",
       "      <th>0</th>\n",
       "      <td>C:\\Users\\jyang\\.cache\\kagglehub\\datasets\\masou...</td>\n",
       "      <td>glioma</td>\n",
       "    </tr>\n",
       "    <tr>\n",
       "      <th>1</th>\n",
       "      <td>C:\\Users\\jyang\\.cache\\kagglehub\\datasets\\masou...</td>\n",
       "      <td>glioma</td>\n",
       "    </tr>\n",
       "    <tr>\n",
       "      <th>2</th>\n",
       "      <td>C:\\Users\\jyang\\.cache\\kagglehub\\datasets\\masou...</td>\n",
       "      <td>glioma</td>\n",
       "    </tr>\n",
       "    <tr>\n",
       "      <th>3</th>\n",
       "      <td>C:\\Users\\jyang\\.cache\\kagglehub\\datasets\\masou...</td>\n",
       "      <td>glioma</td>\n",
       "    </tr>\n",
       "    <tr>\n",
       "      <th>4</th>\n",
       "      <td>C:\\Users\\jyang\\.cache\\kagglehub\\datasets\\masou...</td>\n",
       "      <td>glioma</td>\n",
       "    </tr>\n",
       "    <tr>\n",
       "      <th>...</th>\n",
       "      <td>...</td>\n",
       "      <td>...</td>\n",
       "    </tr>\n",
       "    <tr>\n",
       "      <th>5707</th>\n",
       "      <td>C:\\Users\\jyang\\.cache\\kagglehub\\datasets\\masou...</td>\n",
       "      <td>pituitary</td>\n",
       "    </tr>\n",
       "    <tr>\n",
       "      <th>5708</th>\n",
       "      <td>C:\\Users\\jyang\\.cache\\kagglehub\\datasets\\masou...</td>\n",
       "      <td>pituitary</td>\n",
       "    </tr>\n",
       "    <tr>\n",
       "      <th>5709</th>\n",
       "      <td>C:\\Users\\jyang\\.cache\\kagglehub\\datasets\\masou...</td>\n",
       "      <td>pituitary</td>\n",
       "    </tr>\n",
       "    <tr>\n",
       "      <th>5710</th>\n",
       "      <td>C:\\Users\\jyang\\.cache\\kagglehub\\datasets\\masou...</td>\n",
       "      <td>pituitary</td>\n",
       "    </tr>\n",
       "    <tr>\n",
       "      <th>5711</th>\n",
       "      <td>C:\\Users\\jyang\\.cache\\kagglehub\\datasets\\masou...</td>\n",
       "      <td>pituitary</td>\n",
       "    </tr>\n",
       "  </tbody>\n",
       "</table>\n",
       "<p>5712 rows × 2 columns</p>\n",
       "</div>"
      ],
      "text/plain": [
       "                                             Class Path      Class\n",
       "0     C:\\Users\\jyang\\.cache\\kagglehub\\datasets\\masou...     glioma\n",
       "1     C:\\Users\\jyang\\.cache\\kagglehub\\datasets\\masou...     glioma\n",
       "2     C:\\Users\\jyang\\.cache\\kagglehub\\datasets\\masou...     glioma\n",
       "3     C:\\Users\\jyang\\.cache\\kagglehub\\datasets\\masou...     glioma\n",
       "4     C:\\Users\\jyang\\.cache\\kagglehub\\datasets\\masou...     glioma\n",
       "...                                                 ...        ...\n",
       "5707  C:\\Users\\jyang\\.cache\\kagglehub\\datasets\\masou...  pituitary\n",
       "5708  C:\\Users\\jyang\\.cache\\kagglehub\\datasets\\masou...  pituitary\n",
       "5709  C:\\Users\\jyang\\.cache\\kagglehub\\datasets\\masou...  pituitary\n",
       "5710  C:\\Users\\jyang\\.cache\\kagglehub\\datasets\\masou...  pituitary\n",
       "5711  C:\\Users\\jyang\\.cache\\kagglehub\\datasets\\masou...  pituitary\n",
       "\n",
       "[5712 rows x 2 columns]"
      ]
     },
     "execution_count": 9,
     "metadata": {},
     "output_type": "execute_result"
    }
   ],
   "source": [
    "train_df()"
   ]
  },
  {
   "cell_type": "code",
   "execution_count": 11,
   "metadata": {},
   "outputs": [
    {
     "data": {
      "text/html": [
       "<div>\n",
       "<style scoped>\n",
       "    .dataframe tbody tr th:only-of-type {\n",
       "        vertical-align: middle;\n",
       "    }\n",
       "\n",
       "    .dataframe tbody tr th {\n",
       "        vertical-align: top;\n",
       "    }\n",
       "\n",
       "    .dataframe thead th {\n",
       "        text-align: right;\n",
       "    }\n",
       "</style>\n",
       "<table border=\"1\" class=\"dataframe\">\n",
       "  <thead>\n",
       "    <tr style=\"text-align: right;\">\n",
       "      <th></th>\n",
       "      <th>Class Path</th>\n",
       "      <th>Class</th>\n",
       "    </tr>\n",
       "  </thead>\n",
       "  <tbody>\n",
       "    <tr>\n",
       "      <th>0</th>\n",
       "      <td>C:\\Users\\jyang\\.cache\\kagglehub\\datasets\\masou...</td>\n",
       "      <td>glioma</td>\n",
       "    </tr>\n",
       "    <tr>\n",
       "      <th>1</th>\n",
       "      <td>C:\\Users\\jyang\\.cache\\kagglehub\\datasets\\masou...</td>\n",
       "      <td>glioma</td>\n",
       "    </tr>\n",
       "    <tr>\n",
       "      <th>2</th>\n",
       "      <td>C:\\Users\\jyang\\.cache\\kagglehub\\datasets\\masou...</td>\n",
       "      <td>glioma</td>\n",
       "    </tr>\n",
       "    <tr>\n",
       "      <th>3</th>\n",
       "      <td>C:\\Users\\jyang\\.cache\\kagglehub\\datasets\\masou...</td>\n",
       "      <td>glioma</td>\n",
       "    </tr>\n",
       "    <tr>\n",
       "      <th>4</th>\n",
       "      <td>C:\\Users\\jyang\\.cache\\kagglehub\\datasets\\masou...</td>\n",
       "      <td>glioma</td>\n",
       "    </tr>\n",
       "    <tr>\n",
       "      <th>...</th>\n",
       "      <td>...</td>\n",
       "      <td>...</td>\n",
       "    </tr>\n",
       "    <tr>\n",
       "      <th>1306</th>\n",
       "      <td>C:\\Users\\jyang\\.cache\\kagglehub\\datasets\\masou...</td>\n",
       "      <td>pituitary</td>\n",
       "    </tr>\n",
       "    <tr>\n",
       "      <th>1307</th>\n",
       "      <td>C:\\Users\\jyang\\.cache\\kagglehub\\datasets\\masou...</td>\n",
       "      <td>pituitary</td>\n",
       "    </tr>\n",
       "    <tr>\n",
       "      <th>1308</th>\n",
       "      <td>C:\\Users\\jyang\\.cache\\kagglehub\\datasets\\masou...</td>\n",
       "      <td>pituitary</td>\n",
       "    </tr>\n",
       "    <tr>\n",
       "      <th>1309</th>\n",
       "      <td>C:\\Users\\jyang\\.cache\\kagglehub\\datasets\\masou...</td>\n",
       "      <td>pituitary</td>\n",
       "    </tr>\n",
       "    <tr>\n",
       "      <th>1310</th>\n",
       "      <td>C:\\Users\\jyang\\.cache\\kagglehub\\datasets\\masou...</td>\n",
       "      <td>pituitary</td>\n",
       "    </tr>\n",
       "  </tbody>\n",
       "</table>\n",
       "<p>1311 rows × 2 columns</p>\n",
       "</div>"
      ],
      "text/plain": [
       "                                             Class Path      Class\n",
       "0     C:\\Users\\jyang\\.cache\\kagglehub\\datasets\\masou...     glioma\n",
       "1     C:\\Users\\jyang\\.cache\\kagglehub\\datasets\\masou...     glioma\n",
       "2     C:\\Users\\jyang\\.cache\\kagglehub\\datasets\\masou...     glioma\n",
       "3     C:\\Users\\jyang\\.cache\\kagglehub\\datasets\\masou...     glioma\n",
       "4     C:\\Users\\jyang\\.cache\\kagglehub\\datasets\\masou...     glioma\n",
       "...                                                 ...        ...\n",
       "1306  C:\\Users\\jyang\\.cache\\kagglehub\\datasets\\masou...  pituitary\n",
       "1307  C:\\Users\\jyang\\.cache\\kagglehub\\datasets\\masou...  pituitary\n",
       "1308  C:\\Users\\jyang\\.cache\\kagglehub\\datasets\\masou...  pituitary\n",
       "1309  C:\\Users\\jyang\\.cache\\kagglehub\\datasets\\masou...  pituitary\n",
       "1310  C:\\Users\\jyang\\.cache\\kagglehub\\datasets\\masou...  pituitary\n",
       "\n",
       "[1311 rows x 2 columns]"
      ]
     },
     "execution_count": 11,
     "metadata": {},
     "output_type": "execute_result"
    }
   ],
   "source": [
    "test_df()"
   ]
  },
  {
   "cell_type": "code",
   "execution_count": 13,
   "metadata": {},
   "outputs": [
    {
     "data": {
      "image/png": "[encoded data removed]",
      "text/plain": [
       "<Figure size 800x800 with 1 Axes>"
      ]
     },
     "metadata": {},
     "output_type": "display_data"
    }
   ],
   "source": [
    "#Visualize Training Data Distribution of Training Data\n",
    "tr_df = train_df() # call function to get dataframe\n",
    "class_counts = tr_df['Class'].value_counts()\n",
    "\n",
    "#Create Viusal Distribution of Data (Pie Chart)\n",
    "plt.figure(figsize=(8, 8))\n",
    "plt.pie(class_counts, labels=class_counts.index, autopct='%1.1f%%', startangle=80)\n",
    "plt.title('Training Data Distribution by Class')\n",
    "plt.axis('equal')\n",
    "plt.show()"
   ]
  },
  {
   "cell_type": "code",
   "execution_count": 14,
   "metadata": {},
   "outputs": [
    {
     "data": {
      "image/png": "[encoded data removed]",
      "text/plain": [
       "<Figure size 800x800 with 1 Axes>"
      ]
     },
     "metadata": {},
     "output_type": "display_data"
    }
   ],
   "source": [
    "#Visualize Training Data Distribution of Testing Data\n",
    "ts_df = test_df() # call function to get dataframe\n",
    "class_counts = ts_df['Class'].value_counts()\n",
    "\n",
    "#Create Viusal Distribution of Data (Pie Chart)\n",
    "plt.figure(figsize=(8, 8))\n",
    "plt.pie(class_counts, labels=class_counts.index, autopct='%1.1f%%', startangle=80)\n",
    "plt.title('Testing Data Distribution by Class')\n",
    "plt.axis('equal')\n",
    "plt.show()"
   ]
  },
  {
   "cell_type": "code",
   "execution_count": 18,
   "metadata": {},
   "outputs": [],
   "source": [
    "#split data into train, test, valid\n",
    "valid_df, ts_df = train_test_split(ts_df, train_size=0.5, random_state=20, stratify=ts_df['Class'])"
   ]
  },
  {
   "cell_type": "code",
   "execution_count": 22,
   "metadata": {},
   "outputs": [
    {
     "data": {
      "text/html": [
       "<div>\n",
       "<style scoped>\n",
       "    .dataframe tbody tr th:only-of-type {\n",
       "        vertical-align: middle;\n",
       "    }\n",
       "\n",
       "    .dataframe tbody tr th {\n",
       "        vertical-align: top;\n",
       "    }\n",
       "\n",
       "    .dataframe thead th {\n",
       "        text-align: right;\n",
       "    }\n",
       "</style>\n",
       "<table border=\"1\" class=\"dataframe\">\n",
       "  <thead>\n",
       "    <tr style=\"text-align: right;\">\n",
       "      <th></th>\n",
       "      <th>Class Path</th>\n",
       "      <th>Class</th>\n",
       "    </tr>\n",
       "  </thead>\n",
       "  <tbody>\n",
       "    <tr>\n",
       "      <th>286</th>\n",
       "      <td>C:\\Users\\jyang\\.cache\\kagglehub\\datasets\\masou...</td>\n",
       "      <td>glioma</td>\n",
       "    </tr>\n",
       "    <tr>\n",
       "      <th>318</th>\n",
       "      <td>C:\\Users\\jyang\\.cache\\kagglehub\\datasets\\masou...</td>\n",
       "      <td>meningioma</td>\n",
       "    </tr>\n",
       "    <tr>\n",
       "      <th>1072</th>\n",
       "      <td>C:\\Users\\jyang\\.cache\\kagglehub\\datasets\\masou...</td>\n",
       "      <td>pituitary</td>\n",
       "    </tr>\n",
       "    <tr>\n",
       "      <th>373</th>\n",
       "      <td>C:\\Users\\jyang\\.cache\\kagglehub\\datasets\\masou...</td>\n",
       "      <td>meningioma</td>\n",
       "    </tr>\n",
       "    <tr>\n",
       "      <th>109</th>\n",
       "      <td>C:\\Users\\jyang\\.cache\\kagglehub\\datasets\\masou...</td>\n",
       "      <td>glioma</td>\n",
       "    </tr>\n",
       "    <tr>\n",
       "      <th>...</th>\n",
       "      <td>...</td>\n",
       "      <td>...</td>\n",
       "    </tr>\n",
       "    <tr>\n",
       "      <th>59</th>\n",
       "      <td>C:\\Users\\jyang\\.cache\\kagglehub\\datasets\\masou...</td>\n",
       "      <td>glioma</td>\n",
       "    </tr>\n",
       "    <tr>\n",
       "      <th>860</th>\n",
       "      <td>C:\\Users\\jyang\\.cache\\kagglehub\\datasets\\masou...</td>\n",
       "      <td>notumor</td>\n",
       "    </tr>\n",
       "    <tr>\n",
       "      <th>273</th>\n",
       "      <td>C:\\Users\\jyang\\.cache\\kagglehub\\datasets\\masou...</td>\n",
       "      <td>glioma</td>\n",
       "    </tr>\n",
       "    <tr>\n",
       "      <th>494</th>\n",
       "      <td>C:\\Users\\jyang\\.cache\\kagglehub\\datasets\\masou...</td>\n",
       "      <td>meningioma</td>\n",
       "    </tr>\n",
       "    <tr>\n",
       "      <th>932</th>\n",
       "      <td>C:\\Users\\jyang\\.cache\\kagglehub\\datasets\\masou...</td>\n",
       "      <td>notumor</td>\n",
       "    </tr>\n",
       "  </tbody>\n",
       "</table>\n",
       "<p>655 rows × 2 columns</p>\n",
       "</div>"
      ],
      "text/plain": [
       "                                             Class Path       Class\n",
       "286   C:\\Users\\jyang\\.cache\\kagglehub\\datasets\\masou...      glioma\n",
       "318   C:\\Users\\jyang\\.cache\\kagglehub\\datasets\\masou...  meningioma\n",
       "1072  C:\\Users\\jyang\\.cache\\kagglehub\\datasets\\masou...   pituitary\n",
       "373   C:\\Users\\jyang\\.cache\\kagglehub\\datasets\\masou...  meningioma\n",
       "109   C:\\Users\\jyang\\.cache\\kagglehub\\datasets\\masou...      glioma\n",
       "...                                                 ...         ...\n",
       "59    C:\\Users\\jyang\\.cache\\kagglehub\\datasets\\masou...      glioma\n",
       "860   C:\\Users\\jyang\\.cache\\kagglehub\\datasets\\masou...     notumor\n",
       "273   C:\\Users\\jyang\\.cache\\kagglehub\\datasets\\masou...      glioma\n",
       "494   C:\\Users\\jyang\\.cache\\kagglehub\\datasets\\masou...  meningioma\n",
       "932   C:\\Users\\jyang\\.cache\\kagglehub\\datasets\\masou...     notumor\n",
       "\n",
       "[655 rows x 2 columns]"
      ]
     },
     "execution_count": 22,
     "metadata": {},
     "output_type": "execute_result"
    }
   ],
   "source": [
    "valid_df"
   ]
  },
  {
   "cell_type": "code",
   "execution_count": 25,
   "metadata": {},
   "outputs": [
    {
     "name": "stdout",
     "output_type": "stream",
     "text": [
      "Found 5712 validated image filenames belonging to 4 classes.\n",
      "Found 655 validated image filenames belonging to 4 classes.\n",
      "Found 656 validated image filenames belonging to 4 classes.\n"
     ]
    }
   ],
   "source": [
    "#Data Preprocessing\n",
    "batch_size = 32\n",
    "img_size = (299,299)\n",
    "\n",
    "_gen = ImageDataGenerator(rescale=1/255, brightness_range= (0.8, 1.2))\n",
    "\n",
    "ts_gen = ImageDataGenerator(rescale=1/255)\n",
    "\n",
    "tr_gen = _gen.flow_from_dataframe(tr_df, x_col = 'Class Path',\n",
    "                                  y_col = 'Class', batch_size = batch_size,\n",
    "                                  target_size = img_size)\n",
    "\n",
    "valid_gen = _gen.flow_from_dataframe(valid_df, x_col='Class Path',\n",
    "                                     y_col = 'Class', batch_size = batch_size,\n",
    "                                     target_size = img_size)\n",
    "\n",
    "ts_gen = ts_gen.flow_from_dataframe(ts_df, x_col='Class Path',\n",
    "                                    y_col='Class', batch_size = 16,\n",
    "                                    target_size = img_size, shuffle=False)"
   ]
  },
  {
   "cell_type": "code",
   "execution_count": null,
   "metadata": {},
   "outputs": [],
   "source": [
    "#Get Samples from dataset\n",
    "class_dict = tr_gen.class_indices\n",
    "classes = list(class_dict.keys())\n",
    "images, labels = next(ts_gen)\n",
    "\n",
    "plt.figure(figsize=(20,20))\n",
    "\n",
    "for i, (image, label) in enumerate(zip(images, labels)):\n",
    "    plt.subplot(4,4, i + 1)\n",
    "    plt.imshow(image)\n",
    "    class_name = classes[np.argmax(label)]\n",
    "    plt.title(class_name, color='k', fontsize=15)\n",
    "    \n",
    "plt.show()"
   ]
  }
 ],
 "metadata": {
  "kernelspec": {
   "display_name": ".venv",
   "language": "python",
   "name": "python3"
  },
  "language_info": {
   "codemirror_mode": {
    "name": "ipython",
    "version": 3
   },
   "file_extension": ".py",
   "mimetype": "text/x-python",
   "name": "python",
   "nbconvert_exporter": "python",
   "pygments_lexer": "ipython3",
   "version": "3.11.9"
  }
 },
 "nbformat": 4,
 "nbformat_minor": 2
}
