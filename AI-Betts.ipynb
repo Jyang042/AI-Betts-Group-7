{
 "cells": [
  {
   "cell_type": "code",
   "execution_count": null,
   "metadata": {},
   "outputs": [],
   "source": []
  },
  {
   "cell_type": "code",
   "execution_count": 1,
   "metadata": {},
   "outputs": [
    {
     "name": "stderr",
     "output_type": "stream",
     "text": [
      "Matplotlib is building the font cache; this may take a moment.\n"
     ]
    }
   ],
   "source": [
    "#import statements\n",
    "import numpy as np\n",
    "import pandas as pd\n",
    "import matplotlib.pyplot as plt\n",
    "import tensorflow as tf\n",
    "import random\n",
    "import os\n",
    "import shutil\n",
    "import seaborn\n"
   ]
  },
  {
   "cell_type": "code",
   "execution_count": 2,
   "metadata": {},
   "outputs": [],
   "source": [
    "# Create the directory if it doesn't exist\n",
    "os.makedirs(os.path.expanduser(\"~/.kaggle\"), exist_ok=True)\n",
    "\n",
    "# Move the file from your current folder to ~/.kaggle\n",
    "shutil.move(\"kaggle.json\", os.path.expanduser(\"~/.kaggle/kaggle.json\"))\n",
    "\n",
    "# Secure it (Kaggle requires this)\n",
    "os.chmod(os.path.expanduser(\"~/.kaggle/kaggle.json\"), 0o600)"
   ]
  },
  {
   "cell_type": "code",
   "execution_count": 3,
   "metadata": {},
   "outputs": [
    {
     "name": "stderr",
     "output_type": "stream",
     "text": [
      "c:\\School\\Artifical Intelligence\\AI-Betts-Group-7\\.venv\\Lib\\site-packages\\tqdm\\auto.py:21: TqdmWarning: IProgress not found. Please update jupyter and ipywidgets. See https://ipywidgets.readthedocs.io/en/stable/user_install.html\n",
      "  from .autonotebook import tqdm as notebook_tqdm\n"
     ]
    },
    {
     "name": "stdout",
     "output_type": "stream",
     "text": [
      "Downloading from https://www.kaggle.com/api/v1/datasets/download/masoudnickparvar/brain-tumor-mri-dataset?dataset_version_number=1...\n"
     ]
    },
    {
     "name": "stderr",
     "output_type": "stream",
     "text": [
      "100%|██████████| 149M/149M [00:19<00:00, 8.00MB/s] "
     ]
    },
    {
     "name": "stdout",
     "output_type": "stream",
     "text": [
      "Extracting files...\n"
     ]
    },
    {
     "name": "stderr",
     "output_type": "stream",
     "text": [
      "\n"
     ]
    },
    {
     "name": "stdout",
     "output_type": "stream",
     "text": [
      "Path to dataset files: C:\\Users\\jyang\\.cache\\kagglehub\\datasets\\masoudnickparvar\\brain-tumor-mri-dataset\\versions\\1\n"
     ]
    }
   ],
   "source": [
    "#import dataset\n",
    "import kagglehub\n",
    "\n",
    "#Downlaod latest version\n",
    "path = kagglehub.dataset_download(\"masoudnickparvar/brain-tumor-mri-dataset\")\n",
    "\n",
    "print(\"Path to dataset files:\", path)"
   ]
  },
  {
   "cell_type": "code",
   "execution_count": 7,
   "metadata": {},
   "outputs": [],
   "source": [
    "#read in files\n",
    "train_dr = path + \"\\Training\"\n",
    "test_dr = path + \"\\Testing\""
   ]
  },
  {
   "cell_type": "code",
   "execution_count": 10,
   "metadata": {},
   "outputs": [
    {
     "name": "stdout",
     "output_type": "stream",
     "text": [
      "Training Info:\n",
      "Number of Paths: 5712\n",
      "Number of Labels: 5712\n",
      "Testing Info:\n",
      "Number of Paths: 1311\n",
      "Number of Labels: 1311\n"
     ]
    }
   ],
   "source": [
    "def get_data_labels(directory):\n",
    "    paths = []\n",
    "    labels = []\n",
    "    for label_name in os.listdir(directory):\n",
    "        class_dir = os.path.join(directory, label_name)\n",
    "        if os.path.isdir(class_dir):\n",
    "            for filename in os.listdir(class_dir):\n",
    "                file_path = os.path.join(class_dir, filename)\n",
    "                paths.append(file_path)\n",
    "                labels.append(label_name)\n",
    "    return paths, labels\n",
    "\n",
    "#get data from files\n",
    "train_paths, train_labels = get_data_labels(train_dr)\n",
    "test_paths, test_labels = get_data_labels(test_dr)\n",
    "\n",
    "#print information\n",
    "#print(train_dr)\n",
    "print('Training Info:')\n",
    "print(f'Number of Paths: {len(train_paths)}')\n",
    "print(f'Number of Labels: {len(train_labels)}')\n",
    "#print(test_dr)\n",
    "print('Testing Info:')\n",
    "print(f'Number of Paths: {len(test_paths)}')\n",
    "print(f'Number of Labels: {len(test_labels)}')"
   ]
  }
 ],
 "metadata": {
  "kernelspec": {
   "display_name": ".venv",
   "language": "python",
   "name": "python3"
  },
  "language_info": {
   "codemirror_mode": {
    "name": "ipython",
    "version": 3
   },
   "file_extension": ".py",
   "mimetype": "text/x-python",
   "name": "python",
   "nbconvert_exporter": "python",
   "pygments_lexer": "ipython3",
   "version": "3.11.9"
  }
 },
 "nbformat": 4,
 "nbformat_minor": 2
}
